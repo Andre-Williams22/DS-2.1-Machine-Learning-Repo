{
 "cells": [
  {
   "cell_type": "markdown",
   "metadata": {},
   "source": [
    "<img src=\"Images/ens_slide_1.png\" width=\"700\" height=\"700\">\n",
    "\n",
    "<img src=\"Images/ens_slide_2.png\" width=\"700\" height=\"700\">"
   ]
  },
  {
   "cell_type": "markdown",
   "metadata": {},
   "source": [
    "## Ensemble Methods \n",
    "\n",
    "Ensemble Methods are machine learning algorithms that rely on the \"Wisdom of the Crowd\"\n",
    "\n",
    "Many weak algorithms working together do better than 1 big, monolithic algorithm\n",
    "\n",
    "They are two major groups for ensemble methods: **Random Forests** and **Gradient Boosted Trees**"
   ]
  },
  {
   "cell_type": "markdown",
   "metadata": {},
   "source": [
    "## Random Forest\n",
    "\n",
    "Random Forest is a name for a type of supervised learning\n",
    "\n",
    "***Random Forest*** is just a collection of many small ***Decision Trees***\n",
    "\n",
    "Assume we have a dataset with 10 columns, and thousands of rows. The Random forest algorithm would start by randomly selecting around 2/3 of the rows, and then randomly selecting 6 columns in the data \n",
    "\n",
    "<img src=\"Images/random_forest.png\" width=\"400\" height=\"400\">"
   ]
  },
  {
   "cell_type": "markdown",
   "metadata": {},
   "source": [
    "### Activity: Apply Random Forest to iris dataset \n",
    "\n",
    "Read : https://www.datacamp.com/community/tutorials/random-forests-classifier-python\n",
    "\n",
    "Finish the turorial on your own, and then answer the following questions:\n",
    "\n",
    "- What was the feature importance as described in the tutorial: `clf.feature_importances_`\n",
    "\n",
    "- Change number of estimator (`n_estimators`) and compare the accuracy result"
   ]
  },
  {
   "cell_type": "markdown",
   "metadata": {},
   "source": [
    "## Gradient Boosting\n",
    "\n",
    "In boosting, the trees are built sequentially such that each subsequent tree aims to reduce the errors of the previous tree\n",
    "\n",
    "The tree that grows next in the sequence **will learn from an updated version of the residuals**\n",
    "\n",
    "- Residuals: The differences between observed and predicted values of data.\n"
   ]
  },
  {
   "cell_type": "markdown",
   "metadata": {},
   "source": [
    "## Activity: We want to build a model for a prediction problem with Boosting method\n",
    "\n",
    "- Consider the following data, where the years of experience is predictor variable (feature) and salary (in thousand dollars) is the target\n",
    "\n",
    "<img src=\"Images/dataset_boosting.png\" width=\"150\" height=\"150\">\n",
    "\n",
    "- Using regression trees as base learners, we can create a model to predict the salary\n",
    "\n",
    "- As the first step, obtain the mean value of target: `F0 = np.mean(Y)` \n",
    "\n",
    "- Now build the simplest decision tree regressor with the Feature as `X` and `Y-F0` as the target: Below is the code"
   ]
  },
  {
   "cell_type": "code",
   "execution_count": 3,
   "metadata": {},
   "outputs": [
    {
     "data": {
      "text/plain": [
       "True"
      ]
     },
     "execution_count": 3,
     "metadata": {},
     "output_type": "execute_result"
    }
   ],
   "source": [
    "from sklearn.tree import DecisionTreeRegressor\n",
    "import numpy as np\n",
    "from sklearn.tree import export_graphviz\n",
    "import pydotplus\n",
    "\n",
    "# Feature, years of work experience\n",
    "X = np.array([5, 7, 12, 23, 25, 28, 29, 34, 35, 40])\n",
    "# Target, salary in in thousand dollars\n",
    "Y = np.array([82, 80, 103, 118, 172, 127, 204, 189, 99, 166])\n",
    "\n",
    "# Compute the mean of target and subtract from target\n",
    "F0 = np.mean(Y)\n",
    "#print(F0)\n",
    "\n",
    "# Build and train the simple Regression Model with DT\n",
    "regre = DecisionTreeRegressor(max_depth=1)\n",
    "regre.fit(X.reshape(-1, 1), (Y-F0).reshape(-1, 1))\n",
    "\n",
    "\n",
    "# Draw graph\n",
    "dot_data = export_graphviz(regre)\n",
    "graph = pydotplus.graph_from_dot_data(dot_data)\n",
    "graph.write_png('simple_reg_tree_step1.png')\n",
    "\n",
    "# pydot_graph = pydotplus.graph_from_dot_data(regre)\n",
    "# pydot_graph.write_png('original_tree.png')\n",
    "# pydot_graph.set_size('\"11,12!\"')\n",
    "# pydot_graph.write_png('resized_tree.png')\n",
    "# gvz_graph = graphviz.Source(pydot_graph.to_string())\n",
    "# gvz_graph"
   ]
  },
  {
   "cell_type": "markdown",
   "metadata": {},
   "source": [
    "- As the second step: obtain `h1` as the output result of decision tree regressor with `X` as input : `F1 =F0 + h1` \n",
    "\n",
    "- As the third step: build another simple decision tree regressor with Salary as `X` and `Y-F1` as the target\n",
    "\n",
    "- Keep doing these steps we can predict salary, `Y` from years of experience `X` \n",
    "\n",
    "<img src=\"Images/visualization_boosting.png\" width=\"400\" height=\"400\">"
   ]
  },
  {
   "cell_type": "markdown",
   "metadata": {},
   "source": [
    "## Implementation of Boosting "
   ]
  },
  {
   "cell_type": "code",
   "execution_count": 18,
   "metadata": {},
   "outputs": [
    {
     "data": {
      "text/plain": [
       "<matplotlib.collections.PathCollection at 0x11ed96790>"
      ]
     },
     "execution_count": 18,
     "metadata": {},
     "output_type": "execute_result"
    },
    {
     "data": {
      "image/png": "[encoded data removed]",
      "text/plain": [
       "<Figure size 432x288 with 1 Axes>"
      ]
     },
     "metadata": {
      "needs_background": "light"
     },
     "output_type": "display_data"
    }
   ],
   "source": [
    "# Iteratively predict Y from X using Boosting method\n",
    "\n",
    "from sklearn.tree import DecisionTreeRegressor\n",
    "import numpy as np\n",
    "import matplotlib.pyplot as plt\n",
    "\n",
    "# Feature, years of work experience\n",
    "X = np.array([5, 7, 12, 23, 25, 28, 29, 34, 35, 40])\n",
    "# Target, salary in in thousand dollars\n",
    "Y = np.array([82, 80, 103, 118, 172, 127, 204, 189, 99, 166])\n",
    "\n",
    "iteration = 3 # years of experience\n",
    "F = np.zeros((iteration+1, len(Y)))\n",
    "for i in range(iteration):\n",
    "    if i == 0:\n",
    "        F[i] = np.mean(Y)\n",
    "    regre = DecisionTreeRegressor(max_depth=1)\n",
    "    regre.fit(X.reshape(-1, 1), (Y-F[i]).reshape(-1, 1))\n",
    "    # h[i] = regre.predict(X.reshape(-1, 1)), we do not need to define separate variable for h\n",
    "    F[i+1] = F[i] + regre.predict(X.reshape(-1, 1))\n",
    "    \n",
    "#F.shape, Y.shape    \n",
    "\n",
    "plt.plot(X, F[-1])\n",
    "plt.scatter(X, Y)"
   ]
  },
  {
   "cell_type": "code",
   "execution_count": 19,
   "metadata": {},
   "outputs": [
    {
     "name": "stdout",
     "output_type": "stream",
     "text": [
      "r-squared:  0.708028219123793\n",
      "mean squared error 540.2645833333333\n"
     ]
    }
   ],
   "source": [
    "from sklearn.metrics import r2_score \n",
    "from sklearn.metrics import mean_squared_error\n",
    "\n",
    "\n",
    "r2 = r2_score(Y,F[-1])\n",
    "rmse = np.sqrt(mean_squared_error(Y, F[-1])) # different b/w what we actually have and squares of errors\n",
    "mse = mean_squared_error(Y, F[-1])\n",
    "print('r-squared: ',r2)\n",
    "print('mean squared error', mse)"
   ]
  },
  {
   "cell_type": "markdown",
   "metadata": {},
   "source": [
    "***Demonstrating the Potential of Boosting*** : https://www.analyticsvidhya.com/blog/2018/09/an-end-to-end-guide-to-understand-the-math-behind-xgboost/\n",
    "\n",
    "## Optional: Pseudocode of Boosting Algorithm:\n",
    "\n",
    "<img src=\"Images/boosting_algorithm.png\" width=\"600\" height=\"600\">"
   ]
  },
  {
   "cell_type": "markdown",
   "metadata": {},
   "source": [
    "## Xgboost\n",
    "\n",
    "XGBoost is short for eXtreme Gradient Boosting. It is\n",
    "\n",
    "· An open-sourced tool\n",
    "\n",
    "    - Computation in C++\n",
    "    \n",
    "    - R/python/Julia interface provided\n",
    "    \n",
    "· A variant of the gradient boosting machine \n",
    "\n",
    "    - Tree-based model\n",
    "    \n",
    "· The winning model for several kaggle competitions\n",
    "\n",
    "Apply Xgboost to boston housing dataset (https://www.datacamp.com/community/tutorials/xgboost-in-python)\n",
    "\n",
    "Plot the feature importance"
   ]
  },
  {
   "cell_type": "markdown",
   "metadata": {},
   "source": [
    "## Optional Reading: XGBoost's hyperparameters\n",
    "\n",
    "At this point, before building the model, you should be aware of the tuning parameters that XGBoost provides. Well, there are a plethora of tuning parameters for tree-based learners in XGBoost and you can read all about them here. But the most common ones that you should know are:\n",
    "\n",
    "***learning_rate***: step size shrinkage used to prevent overfitting. Range is [0,1]\n",
    "\n",
    "***max_depth***: determines how deeply each tree is allowed to grow during any boosting round.\n",
    "\n",
    "***subsample***: percentage of samples used per tree. Low value can lead to underfitting.\n",
    "\n",
    "***colsample_bytree***: percentage of features used per tree. High value can lead to overfitting.\n",
    "\n",
    "***n_estimators***: number of trees you want to build.\n",
    "\n",
    "***objective***: determines the loss function to be used like reg:linear for regression problems, reg:logistic for classification problems with only decision, binary:logistic for classification problems with probability."
   ]
  },
  {
   "cell_type": "markdown",
   "metadata": {},
   "source": [
    "## Summary\n",
    "\n",
    "- Ensemble Methods are machine learning algorithms that rely on the \"Wisdom of the Crowd\"\n",
    "\n",
    "- Many weak algorithms working together do better than 1 big, monolithic algorithm\n",
    "\n",
    "- In boosting, each tree will learn from an updated version of the residuals\n",
    "\n",
    "- They are two major groups for ensemble methods:\n",
    "\n",
    "    - Random Forests \n",
    "    \n",
    "    - Gradient Boosted Trees\n",
    "\n",
    "- The Ensemble methods are able to obtain and rank the feature importance\n"
   ]
  },
  {
   "cell_type": "markdown",
   "metadata": {},
   "source": [
    "## Resources:\n",
    "\n",
    "- https://www.datacamp.com/community/tutorials/random-forests-classifier-python\n",
    "    \n",
    "- https://www.analyticsvidhya.com/blog/2018/09/an-end-to-end-guide-to-understand-the-math-behind-xgboost/\n",
    "\n",
    "- https://www.datacamp.com/community/tutorials/xgboost-in-python\n"
   ]
  }
 ],
 "metadata": {
  "kernelspec": {
   "display_name": "Python 3",
   "language": "python",
   "name": "python3"
  },
  "language_info": {
   "codemirror_mode": {
    "name": "ipython",
    "version": 3
   },
   "file_extension": ".py",
   "mimetype": "text/x-python",
   "name": "python",
   "nbconvert_exporter": "python",
   "pygments_lexer": "ipython3",
   "version": "3.7.6"
  }
 },
 "nbformat": 4,
 "nbformat_minor": 2
}
