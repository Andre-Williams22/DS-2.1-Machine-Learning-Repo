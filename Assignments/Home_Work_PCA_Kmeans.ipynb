{
 "cells": [
  {
   "cell_type": "markdown",
   "metadata": {},
   "source": [
    "## Apply PCA and Clustering to Wholesale Customer Data\n",
    "\n",
    "In this homework, we'll examine the [**_Wholesale Customers Dataset_**](https://archive.ics.uci.edu/ml/datasets/Wholesale+customers), which we'll get from the UCI Machine Learning Datasets repository.  This dataset contains the purchase records from clients of a wholesale distributor.  It details the total annual purchases across categories seen in the data dictionary below:\n",
    "\n",
    "**Category** | **Description** \n",
    ":-----:|:-----:\n",
    "CHANNEL| 1= Hotel/Restaurant/Cafe, 2=Retailer (Nominal)\n",
    "REGION| Geographic region of Portugal for each order (Nominal)\n",
    "FRESH| Annual spending (m.u.) on fresh products (Continuous);\n",
    "MILK| Annual spending (m.u.) on milk products (Continuous); \n",
    "GROCERY| Annual spending (m.u.)on grocery products (Continuous); \n",
    "FROZEN| Annual spending (m.u.)on frozen products (Continuous) \n",
    "DETERGENTS\\_PAPER| Annual spending (m.u.) on detergents and paper products (Continuous) \n",
    "DELICATESSEN| Annual spending (m.u.)on and delicatessen products (Continuous); \n",
    "\n",
    "**_TASK:_** Read in `wholesale_customers_data.csv` from the `datasets` folder and store in a dataframe.  Store the `Channel` column in a separate variable, and then drop the `Channel` and `Region` columns from the dataframe. Scale the data and use PCA to engineer new features (Principal Components).  Print out the explained variance for each principal component. "
   ]
  },
  {
   "cell_type": "markdown",
   "metadata": {},
   "source": [
    "## K-Means, but Without All the Supervision\n",
    " \n",
    "\n",
    "**_Challenge:_** Use K-Means clustering on the `wholesale_customers` dataset, and then again on a version of this dataset transformed by PCA.  \n",
    "\n",
    "1. Read in the data from the `wholesale_customers_data.csv` file contained within the datasets folder.  \n",
    "\n",
    "2. Store the `Channel` column in a separate variable, and then drop the `Region` and `Channel` columns from the dataframe.  `Channel` will act as our labels to tell us what class of customer each datapoint actually is, in case we want to check the accuracy of our clustering.  \n",
    "\n",
    "3.  Scale the data, fit a k-means object to it, and then visualize the data and the clustering.  \n",
    "\n",
    "4.  Use PCA to transform the data, and then use k-means clustering on it to see if our results are any better.  \n",
    "\n",
    "**Challenge:_** Use the confusion matrix function to create a confusion matrix and see how accurate our clustering algorithms were.  Which did better--scaled data, or data transformed by PCA?\n",
    "\n"
   ]
  },
  {
   "cell_type": "code",
   "execution_count": 1,
   "metadata": {},
   "outputs": [],
   "source": [
    "import numpy as np \n",
    "import pandas as pd \n",
    "import matplotlib.pyplot as plt \n",
    "import seaborn as sns \n",
    "sns.set()"
   ]
  },
  {
   "cell_type": "code",
   "execution_count": 2,
   "metadata": {},
   "outputs": [
    {
     "data": {
      "text/html": [
       "<div>\n",
       "<style scoped>\n",
       "    .dataframe tbody tr th:only-of-type {\n",
       "        vertical-align: middle;\n",
       "    }\n",
       "\n",
       "    .dataframe tbody tr th {\n",
       "        vertical-align: top;\n",
       "    }\n",
       "\n",
       "    .dataframe thead th {\n",
       "        text-align: right;\n",
       "    }\n",
       "</style>\n",
       "<table border=\"1\" class=\"dataframe\">\n",
       "  <thead>\n",
       "    <tr style=\"text-align: right;\">\n",
       "      <th></th>\n",
       "      <th>Channel</th>\n",
       "      <th>Region</th>\n",
       "      <th>Fresh</th>\n",
       "      <th>Milk</th>\n",
       "      <th>Grocery</th>\n",
       "      <th>Frozen</th>\n",
       "      <th>Detergents_Paper</th>\n",
       "      <th>Delicassen</th>\n",
       "    </tr>\n",
       "  </thead>\n",
       "  <tbody>\n",
       "    <tr>\n",
       "      <th>0</th>\n",
       "      <td>2</td>\n",
       "      <td>3</td>\n",
       "      <td>12669</td>\n",
       "      <td>9656</td>\n",
       "      <td>7561</td>\n",
       "      <td>214</td>\n",
       "      <td>2674</td>\n",
       "      <td>1338</td>\n",
       "    </tr>\n",
       "    <tr>\n",
       "      <th>1</th>\n",
       "      <td>2</td>\n",
       "      <td>3</td>\n",
       "      <td>7057</td>\n",
       "      <td>9810</td>\n",
       "      <td>9568</td>\n",
       "      <td>1762</td>\n",
       "      <td>3293</td>\n",
       "      <td>1776</td>\n",
       "    </tr>\n",
       "    <tr>\n",
       "      <th>2</th>\n",
       "      <td>2</td>\n",
       "      <td>3</td>\n",
       "      <td>6353</td>\n",
       "      <td>8808</td>\n",
       "      <td>7684</td>\n",
       "      <td>2405</td>\n",
       "      <td>3516</td>\n",
       "      <td>7844</td>\n",
       "    </tr>\n",
       "    <tr>\n",
       "      <th>3</th>\n",
       "      <td>1</td>\n",
       "      <td>3</td>\n",
       "      <td>13265</td>\n",
       "      <td>1196</td>\n",
       "      <td>4221</td>\n",
       "      <td>6404</td>\n",
       "      <td>507</td>\n",
       "      <td>1788</td>\n",
       "    </tr>\n",
       "    <tr>\n",
       "      <th>4</th>\n",
       "      <td>2</td>\n",
       "      <td>3</td>\n",
       "      <td>22615</td>\n",
       "      <td>5410</td>\n",
       "      <td>7198</td>\n",
       "      <td>3915</td>\n",
       "      <td>1777</td>\n",
       "      <td>5185</td>\n",
       "    </tr>\n",
       "  </tbody>\n",
       "</table>\n",
       "</div>"
      ],
      "text/plain": [
       "   Channel  Region  Fresh  Milk  Grocery  Frozen  Detergents_Paper  Delicassen\n",
       "0        2       3  12669  9656     7561     214              2674        1338\n",
       "1        2       3   7057  9810     9568    1762              3293        1776\n",
       "2        2       3   6353  8808     7684    2405              3516        7844\n",
       "3        1       3  13265  1196     4221    6404               507        1788\n",
       "4        2       3  22615  5410     7198    3915              1777        5185"
      ]
     },
     "execution_count": 2,
     "metadata": {},
     "output_type": "execute_result"
    }
   ],
   "source": [
    "df = pd.read_csv('../Notebooks/Datasets/Wholesale-customers-data.csv')\n",
    "df.head()"
   ]
  },
  {
   "cell_type": "code",
   "execution_count": 3,
   "metadata": {},
   "outputs": [],
   "source": [
    "y = df['Channel']\n",
    "x = df.drop(columns=['Channel', 'Region'], axis=1)"
   ]
  },
  {
   "cell_type": "code",
   "execution_count": 4,
   "metadata": {},
   "outputs": [
    {
     "data": {
      "text/plain": [
       "440"
      ]
     },
     "execution_count": 4,
     "metadata": {},
     "output_type": "execute_result"
    }
   ],
   "source": [
    "len(x)"
   ]
  },
  {
   "cell_type": "markdown",
   "metadata": {},
   "source": [
    "## Scale The Data"
   ]
  },
  {
   "cell_type": "code",
   "execution_count": 5,
   "metadata": {},
   "outputs": [],
   "source": [
    "from sklearn.preprocessing import StandardScaler\n",
    "\n",
    "# Create a scaler object \n",
    "scaler = StandardScaler()\n",
    "\n",
    "# Fit the inputs (calculate the mean and standard deviation feature-wise)\n",
    "scaler = scaler.fit(x)\n",
    "\n",
    "# # Scale the features and store them in a new variable (the actual scaling procedure)\n",
    "inputs_scaled = scaler.transform(x)"
   ]
  },
  {
   "cell_type": "markdown",
   "metadata": {},
   "source": [
    "## Apply Clustering To Scaled Data"
   ]
  },
  {
   "cell_type": "code",
   "execution_count": 7,
   "metadata": {},
   "outputs": [],
   "source": [
    "# Use model for k-means clustering with sklearn\n",
    "from sklearn.cluster import KMeans\n",
    "from sklearn.model_selection import train_test_split\n",
    "\n",
    "# Split the data \n",
    "X_train, X_test, y_train, y_test = train_test_split(inputs_scaled, y, test_size=.2, random_state=0)\n"
   ]
  },
  {
   "cell_type": "markdown",
   "metadata": {},
   "source": [
    "## Apply Elbow Method"
   ]
  },
  {
   "cell_type": "code",
   "execution_count": 8,
   "metadata": {},
   "outputs": [
    {
     "data": {
      "text/plain": [
       "[2153.349638868867,\n",
       " 1541.3327253614466,\n",
       " 1251.8102008591632,\n",
       " 993.194410286226,\n",
       " 797.8213208583529,\n",
       " 713.6718136542038,\n",
       " 644.5558853046132,\n",
       " 589.2557134266441,\n",
       " 512.2394254880696,\n",
       " 476.4634735404668]"
      ]
     },
     "execution_count": 8,
     "metadata": {},
     "output_type": "execute_result"
    }
   ],
   "source": [
    "# create an empyty list\n",
    "wcss = []\n",
    "\n",
    "# create all possible cluster solutions with a loop\n",
    "# we have chosen to get the wcss solutions from 1 to 10 clusters (Completely arbitrarily chosen)\n",
    "for i in range(1,11):\n",
    "    # cluster solution with i clusters\n",
    "    kmeans = KMeans(i)\n",
    "    # Fit the standardized data\n",
    "    kmeans.fit(X_train)\n",
    "    # Append the WCSS for the iteration\n",
    "    wcss.append(kmeans.inertia_)\n",
    "# check the result    \n",
    "wcss"
   ]
  },
  {
   "cell_type": "code",
   "execution_count": 9,
   "metadata": {},
   "outputs": [
    {
     "data": {
      "text/plain": [
       "Text(0, 0.5, 'WCSS')"
      ]
     },
     "execution_count": 9,
     "metadata": {},
     "output_type": "execute_result"
    },
    {
     "data": {
      "image/png": "[encoded data removed]",
      "text/plain": [
       "<Figure size 432x288 with 1 Axes>"
      ]
     },
     "metadata": {},
     "output_type": "display_data"
    }
   ],
   "source": [
    "# Plot the number of clusters vs WCSS\n",
    "plt.plot(range(1,11),wcss)\n",
    "plt.xlabel('Number of Clusters')\n",
    "plt.ylabel('WCSS')"
   ]
  },
  {
   "cell_type": "markdown",
   "metadata": {},
   "source": [
    "## Explore Clustering Solutions and Select the Number of Clusters"
   ]
  },
  {
   "cell_type": "code",
   "execution_count": 27,
   "metadata": {},
   "outputs": [
    {
     "data": {
      "text/plain": [
       "KMeans(algorithm='auto', copy_x=True, init='k-means++', max_iter=300,\n",
       "       n_clusters=2, n_init=10, n_jobs=None, precompute_distances='auto',\n",
       "       random_state=None, tol=0.0001, verbose=0)"
      ]
     },
     "execution_count": 27,
     "metadata": {},
     "output_type": "execute_result"
    }
   ],
   "source": [
    "# Fiddle with k (the number of clusters) based on the elbow \n",
    "kmeans_new = KMeans(2)\n",
    "# Fit the data\n",
    "kmeans_new.fit(X_train, y_train)\n",
    "# Create a new data frame with the predicted clusters\n",
    "# clusters_new = x.copy()\n",
    "# clusters_new['cluster_pred'] = kmeans_new.fit_predict(X_train)"
   ]
  },
  {
   "cell_type": "code",
   "execution_count": 28,
   "metadata": {},
   "outputs": [
    {
     "data": {
      "text/plain": [
       "array([1, 1, 1, 1, 1, 1, 1, 1, 1, 1, 1, 1, 1, 1, 1, 1, 1, 1, 1, 1, 1, 1,\n",
       "       1, 1, 1, 1, 1, 1, 1, 1, 1, 1, 1, 1, 1, 2, 1, 1, 1, 1, 1, 1, 1, 1,\n",
       "       1, 1, 1, 1, 1, 1, 1, 1, 1, 1, 1, 1, 1, 1, 1, 1, 1, 1, 1, 1, 1, 1,\n",
       "       1, 1, 1, 1, 1, 1, 2, 1, 1, 1, 1, 1, 1, 1, 1, 1, 1, 1, 1, 1, 1, 1],\n",
       "      dtype=int32)"
      ]
     },
     "execution_count": 28,
     "metadata": {},
     "output_type": "execute_result"
    }
   ],
   "source": [
    "y_pred = kmeans_new.predict(X_test) + 1\n",
    "y_pred"
   ]
  },
  {
   "cell_type": "code",
   "execution_count": 29,
   "metadata": {},
   "outputs": [
    {
     "data": {
      "text/plain": [
       "array([[56,  0],\n",
       "       [30,  2]])"
      ]
     },
     "execution_count": 29,
     "metadata": {},
     "output_type": "execute_result"
    }
   ],
   "source": [
    "from sklearn.metrics import confusion_matrix\n",
    "confusion = confusion_matrix(y_test, y_pred)\n",
    "confusion"
   ]
  },
  {
   "cell_type": "markdown",
   "metadata": {},
   "source": [
    "## Apply PCA"
   ]
  },
  {
   "cell_type": "code",
   "execution_count": 30,
   "metadata": {},
   "outputs": [
    {
     "data": {
      "text/plain": [
       "array([[0.06796277, 0.05380355, 0.034663  , 0.04908746, 0.02911003,\n",
       "        0.00177727, 0.02290171, 0.01991374]])"
      ]
     },
     "execution_count": 30,
     "metadata": {},
     "output_type": "execute_result"
    }
   ],
   "source": [
    "from sklearn import preprocessing\n",
    "\n",
    "scaled_df = preprocessing.normalize(df, axis=0)\n",
    "scaled_df[:1]"
   ]
  },
  {
   "cell_type": "code",
   "execution_count": 31,
   "metadata": {},
   "outputs": [
    {
     "data": {
      "text/plain": [
       "(440, 2)"
      ]
     },
     "execution_count": 31,
     "metadata": {},
     "output_type": "execute_result"
    }
   ],
   "source": [
    "from sklearn.decomposition import PCA\n",
    "\n",
    "X = np.array(scaled_df)\n",
    "\n",
    "pca = PCA(n_components=2)\n",
    "X_r = pca.fit_transform(X)\n",
    "X_r.shape"
   ]
  },
  {
   "cell_type": "code",
   "execution_count": 32,
   "metadata": {},
   "outputs": [
    {
     "data": {
      "image/png": "[encoded data removed]",
      "text/plain": [
       "<Figure size 432x288 with 1 Axes>"
      ]
     },
     "metadata": {},
     "output_type": "display_data"
    }
   ],
   "source": [
    "for feature, (plot_x,plot_y) in enumerate(zip(X_r[:, 0], X_r[:, 1])):\n",
    "    plt.scatter(plot_x, plot_y)"
   ]
  },
  {
   "cell_type": "code",
   "execution_count": 33,
   "metadata": {},
   "outputs": [
    {
     "data": {
      "text/plain": [
       "array([[-0.01690171,  0.00168181],\n",
       "       [ 0.13803063, -0.01373482]])"
      ]
     },
     "execution_count": 33,
     "metadata": {},
     "output_type": "execute_result"
    }
   ],
   "source": [
    "kcluster = KMeans(n_clusters = 2)\n",
    "kcluster.fit(X_r)\n",
    "kcluster.cluster_centers_"
   ]
  },
  {
   "cell_type": "code",
   "execution_count": 36,
   "metadata": {},
   "outputs": [
    {
     "data": {
      "text/plain": [
       "array([0, 0, 0, 0, 0, 0, 0, 0, 0, 1, 0, 0, 0, 0, 0, 0, 0, 0, 0, 0, 0, 0,\n",
       "       0, 1, 0, 0, 0, 0, 1, 0, 0, 0, 0, 0, 0, 0, 0, 0, 1, 0, 0, 0, 0, 1,\n",
       "       0, 1, 1, 1, 0, 1, 0, 0, 0, 0, 0, 0, 1, 0, 0, 0, 0, 1, 0, 0, 0, 1,\n",
       "       0, 0, 0, 0, 0, 1, 0, 0, 0, 0, 0, 1, 0, 0, 0, 0, 0, 0, 0, 1, 1, 0,\n",
       "       0, 0, 0, 0, 1, 0, 0, 0, 0, 0, 0, 0, 0, 0, 0, 0, 0, 0, 0, 1, 0, 1,\n",
       "       0, 0, 0, 0, 0, 0, 0, 0, 0, 0, 0, 0, 0, 0, 0, 0, 0, 0, 0, 0, 0, 0,\n",
       "       0, 0, 0, 0, 0, 0, 0, 0, 0, 0, 0, 0, 0, 1, 0, 0, 0, 0, 0, 0, 0, 0,\n",
       "       0, 1, 0, 0, 0, 0, 0, 0, 0, 1, 0, 1, 0, 0, 0, 0, 0, 1, 0, 1, 0, 0,\n",
       "       0, 0, 0, 0, 0, 1, 0, 1, 0, 0, 0, 0, 0, 0, 0, 0, 0, 0, 0, 0, 0, 0,\n",
       "       0, 0, 1, 1, 0, 0, 0, 1, 0, 0, 0, 1, 0, 1, 0, 0, 0, 0, 1, 0, 0, 0,\n",
       "       0, 0, 0, 0, 0, 0, 0, 0, 0, 0, 0, 0, 0, 0, 0, 0, 0, 0, 0, 0, 0, 0,\n",
       "       0, 0, 0, 0, 0, 0, 0, 0, 0, 1, 0, 0, 0, 0, 0, 0, 0, 0, 0, 0, 0, 0,\n",
       "       0, 0, 0, 0, 0, 0, 0, 0, 0, 0, 0, 0, 0, 0, 0, 0, 0, 0, 0, 0, 0, 0,\n",
       "       0, 0, 0, 0, 0, 0, 0, 0, 0, 0, 0, 0, 0, 0, 0, 1, 0, 0, 1, 0, 1, 0,\n",
       "       0, 1, 0, 0, 1, 0, 0, 0, 0, 0, 0, 1, 0, 0, 0, 0, 0, 0, 0, 0, 0, 0,\n",
       "       0, 1, 0, 1, 0, 0, 0, 0, 0, 0, 0, 0, 0, 1, 0, 0, 0, 0, 0, 1, 0, 1,\n",
       "       0, 1, 0, 0, 0, 0, 0, 0, 0, 0, 0, 0, 0, 0, 0, 0, 0, 0, 0, 0, 0, 0,\n",
       "       0, 0, 0, 0, 0, 0, 0, 0, 0, 0, 0, 0, 0, 0, 0, 0, 0, 0, 0, 0, 0, 0,\n",
       "       0, 0, 0, 0, 0, 0, 0, 0, 0, 0, 0, 1, 0, 0, 0, 0, 0, 0, 0, 0, 0, 0,\n",
       "       0, 0, 0, 0, 0, 0, 0, 0, 0, 0, 0, 0, 0, 0, 0, 0, 0, 0, 0, 1, 0, 0],\n",
       "      dtype=int32)"
      ]
     },
     "execution_count": 36,
     "metadata": {},
     "output_type": "execute_result"
    }
   ],
   "source": [
    "pca_pred = kcluster.predict(X_r) \n",
    "pca_pred"
   ]
  },
  {
   "cell_type": "code",
   "execution_count": 43,
   "metadata": {},
   "outputs": [
    {
     "data": {
      "text/plain": [
       "array([1, 2, 1, 2, 1, 2, 2, 1, 1, 1, 2, 2, 1, 1, 1, 1, 2, 2, 1, 1, 1, 2,\n",
       "       1, 1, 1, 1, 2, 1, 2, 1, 1, 2, 1, 1, 1, 2, 2, 1, 1, 1, 1, 1, 1, 2,\n",
       "       1, 2, 2, 1, 1, 1, 1, 1, 1, 2, 2, 1, 1, 1, 2, 1, 1, 2, 1, 2, 1, 2,\n",
       "       2, 2, 1, 2, 1, 1, 2, 1, 1, 1, 1, 1, 1, 1, 2, 1, 2, 1, 2, 2, 2, 1])"
      ]
     },
     "execution_count": 43,
     "metadata": {},
     "output_type": "execute_result"
    }
   ],
   "source": [
    "np.array(y_test)"
   ]
  },
  {
   "cell_type": "code",
   "execution_count": null,
   "metadata": {},
   "outputs": [],
   "source": [
    "## Analysi with PCA "
   ]
  },
  {
   "cell_type": "code",
   "execution_count": 44,
   "metadata": {},
   "outputs": [
    {
     "data": {
      "text/plain": [
       "0.006818181818181818"
      ]
     },
     "execution_count": 44,
     "metadata": {},
     "output_type": "execute_result"
    }
   ],
   "source": [
    "from sklearn.metrics import accuracy_score \n",
    "\n",
    "accuracy_score(y,pca_pred)"
   ]
  },
  {
   "cell_type": "code",
   "execution_count": null,
   "metadata": {},
   "outputs": [],
   "source": []
  },
  {
   "cell_type": "code",
   "execution_count": 10,
   "metadata": {},
   "outputs": [
    {
     "data": {
      "text/plain": [
       "0    391\n",
       "1     49\n",
       "Name: cluster_pred, dtype: int64"
      ]
     },
     "execution_count": 10,
     "metadata": {},
     "output_type": "execute_result"
    }
   ],
   "source": [
    "clusters_new['cluster_pred'].value_counts()"
   ]
  },
  {
   "cell_type": "code",
   "execution_count": 28,
   "metadata": {},
   "outputs": [],
   "source": [
    "# x = clusters_new.drop('cluster_pred', axis=1)"
   ]
  },
  {
   "cell_type": "code",
   "execution_count": 38,
   "metadata": {},
   "outputs": [
    {
     "data": {
      "text/plain": [
       "<matplotlib.collections.PathCollection at 0x11ceeda90>"
      ]
     },
     "execution_count": 38,
     "metadata": {},
     "output_type": "execute_result"
    },
    {
     "data": {
      "image/png": "[encoded data removed]",
      "text/plain": [
       "<Figure size 432x288 with 1 Axes>"
      ]
     },
     "metadata": {},
     "output_type": "display_data"
    }
   ],
   "source": [
    "# create a scatter plot based on two corresponding features (sepal_length and sepal_width; OR petal_length and petal_width)\n",
    "plt.scatter(clusters_new['Milk'],clusters_new['Frozen'],c=clusters_new['cluster_pred'],cmap='rainbow')"
   ]
  },
  {
   "cell_type": "markdown",
   "metadata": {},
   "source": [
    "## Apply PCA on Data "
   ]
  },
  {
   "cell_type": "code",
   "execution_count": 53,
   "metadata": {},
   "outputs": [],
   "source": [
    "import numpy as np\n",
    "from sklearn.decomposition import PCA\n",
    "import scipy\n",
    "\n",
    "\n",
    "pca = PCA(n_components=2)\n",
    "X_r = pca.fit_transform(x)\n",
    "\n",
    "kmeans_new = KMeans(2)\n",
    "# Fit the data\n",
    "X_test_reduced = kmeans_new.fit(X_r)\n",
    "\n",
    "# X_test_reduced = pca.transform(x)\n",
    "\n",
    "clusters_pca = x.copy()\n",
    "clusters_pca['cluster_pred'] = kmeans_new.fit_predict(X_r)\n"
   ]
  },
  {
   "cell_type": "code",
   "execution_count": 56,
   "metadata": {},
   "outputs": [
    {
     "data": {
      "text/plain": [
       "<matplotlib.collections.PathCollection at 0x11d5e2d90>"
      ]
     },
     "execution_count": 56,
     "metadata": {},
     "output_type": "execute_result"
    },
    {
     "data": {
      "image/png": "[encoded data removed]",
      "text/plain": [
       "<Figure size 432x288 with 1 Axes>"
      ]
     },
     "metadata": {},
     "output_type": "display_data"
    }
   ],
   "source": [
    "plt.scatter(clusters_pca['Grocery'],clusters_pca['Frozen'],c=clusters_pca['cluster_pred'],cmap='rainbow')"
   ]
  },
  {
   "cell_type": "code",
   "execution_count": 57,
   "metadata": {},
   "outputs": [
    {
     "data": {
      "text/plain": [
       "<matplotlib.collections.PathCollection at 0x11d644a10>"
      ]
     },
     "execution_count": 57,
     "metadata": {},
     "output_type": "execute_result"
    },
    {
     "data": {
      "image/png": "[encoded data removed]",
      "text/plain": [
       "<Figure size 432x288 with 1 Axes>"
      ]
     },
     "metadata": {},
     "output_type": "display_data"
    }
   ],
   "source": [
    "plt.scatter(clusters_pca['Milk'],clusters_pca['Frozen'],c=clusters_pca['cluster_pred'],cmap='rainbow')"
   ]
  },
  {
   "cell_type": "code",
   "execution_count": 58,
   "metadata": {},
   "outputs": [
    {
     "data": {
      "text/plain": [
       "<matplotlib.collections.PathCollection at 0x11d799150>"
      ]
     },
     "execution_count": 58,
     "metadata": {},
     "output_type": "execute_result"
    },
    {
     "data": {
      "image/png": "[encoded data removed]",
      "text/plain": [
       "<Figure size 432x288 with 1 Axes>"
      ]
     },
     "metadata": {},
     "output_type": "display_data"
    }
   ],
   "source": [
    "plt.scatter(clusters_pca['Fresh'],clusters_pca['Frozen'],c=clusters_pca['cluster_pred'],cmap='rainbow')"
   ]
  },
  {
   "cell_type": "code",
   "execution_count": 61,
   "metadata": {},
   "outputs": [
    {
     "data": {
      "text/plain": [
       "array([[ 6.50022122e+02,  1.58551909e+03],\n",
       "       [-4.42680498e+03,  4.04245151e+03],\n",
       "       [-4.84199871e+03,  2.57876218e+03],\n",
       "       [ 9.90346437e+02, -6.27980600e+03],\n",
       "       [ 1.06579987e+04, -2.15972582e+03],\n",
       "       [-2.76596159e+03, -9.59870727e+02],\n",
       "       [-7.15550892e+02, -2.01300227e+03],\n",
       "       [-4.47458367e+03,  1.42949697e+03],\n",
       "       [-6.71209540e+03, -2.20590916e+03],\n",
       "       [-4.82363435e+03,  1.34805592e+04],\n",
       "       [-7.97482898e+03,  5.71121893e+03],\n",
       "       [ 3.63937790e+01, -6.03789641e+03],\n",
       "       [ 1.99402021e+04,  4.59128648e+03],\n",
       "       [ 9.39669558e+03,  5.91315704e+03],\n",
       "       [ 1.26603704e+04,  4.54194543e+03],\n",
       "       [-2.99772590e+03, -6.09387930e+03],\n",
       "       [-1.05895236e+04,  6.58421594e+03],\n",
       "       [-6.36709518e+03, -3.68071267e+03],\n",
       "       [ 6.62382534e+03,  1.25471953e+03],\n",
       "       [-4.86153157e+03, -2.25592266e+02],\n",
       "       [ 4.79424416e+03, -3.98879936e+03],\n",
       "       [-7.24486684e+03, -7.34772325e+03],\n",
       "       [ 1.92992657e+04, -6.93681068e+03],\n",
       "       [ 1.99410882e+04,  2.63126546e+04],\n",
       "       [ 1.14930749e+04,  6.17138651e+03],\n",
       "       [ 3.30994467e+03, -1.16125675e+03],\n",
       "       [-2.96863906e+03, -7.15886854e+03],\n",
       "       [ 8.72160231e+02, -7.60388820e+03],\n",
       "       [-4.89551897e+03,  2.45523736e+04],\n",
       "       [ 2.92610930e+04, -1.00833375e+04],\n",
       "       [ 6.39414888e+03,  3.76417322e+02],\n",
       "       [-9.81327673e+03, -4.16283154e+03],\n",
       "       [ 8.06135614e+03, -7.97699062e+03],\n",
       "       [ 1.76054510e+04, -3.96357178e+03],\n",
       "       [-1.15280156e+04, -6.04897825e+03],\n",
       "       [-1.13155164e+04,  3.97022693e+03],\n",
       "       [ 1.72251668e+04, -5.19081924e+03],\n",
       "       [ 3.69239104e+03,  6.86458647e+03],\n",
       "       [-6.05893887e+03,  1.41223078e+04],\n",
       "       [ 4.32230973e+04, -1.40035946e+04],\n",
       "       [ 1.26572405e+04, -5.03503289e+03],\n",
       "       [ 6.48440574e+03, -3.74775427e+03],\n",
       "       [-1.04726387e+03,  7.83146005e+03],\n",
       "       [-9.96785364e+03,  1.86487624e+04],\n",
       "       [-2.46870964e+03,  3.41766822e+03],\n",
       "       [-3.85345841e+03,  2.13741761e+04],\n",
       "       [-7.07067861e+03,  1.74094280e+04],\n",
       "       [ 4.14113163e+04,  6.57882979e+04],\n",
       "       [-6.45598358e+02,  3.32887015e+03],\n",
       "       [-3.97964868e+03,  2.87791942e+04],\n",
       "       [-6.35452090e+03, -7.16528451e+03],\n",
       "       [-9.22606332e+03, -1.18110994e+03],\n",
       "       [ 2.72895210e+04, -5.80765129e+03],\n",
       "       [-1.09146928e+04,  7.38976247e+03],\n",
       "       [ 1.39816443e+04, -9.50607390e+03],\n",
       "       [-7.34350011e+03, -2.89573986e+03],\n",
       "       [-3.81971919e+03,  3.31916042e+04],\n",
       "       [-6.28336928e+03,  6.55739318e+03],\n",
       "       [ 4.52703306e+02, -7.97548636e+03],\n",
       "       [-6.21764093e+03,  6.24920483e+02],\n",
       "       [-4.22019178e+03, -6.91381753e+02],\n",
       "       [ 3.03988407e+04,  6.23693729e+04],\n",
       "       [-3.99325128e+03,  9.21012119e-01],\n",
       "       [-1.43456579e+03,  1.10064494e+04],\n",
       "       [-7.82844705e+03, -5.78164159e+03],\n",
       "       [-8.08740659e+03,  4.59508391e+04],\n",
       "       [-1.28068817e+04, -1.09757007e+03],\n",
       "       [ 7.84317115e+03,  4.65493831e+03],\n",
       "       [-8.84830877e+03, -1.94231623e+03],\n",
       "       [-4.76083262e+03, -7.07154644e+03],\n",
       "       [ 5.00866284e+03, -7.25202733e+03],\n",
       "       [ 7.62296608e+03,  8.14447143e+03],\n",
       "       [-7.00444667e+03, -4.30094475e+03],\n",
       "       [ 8.43018240e+03, -1.44917800e+03],\n",
       "       [-3.78921187e+03,  1.80223211e+03],\n",
       "       [ 7.33317055e+03, -1.05175081e+04],\n",
       "       [-1.07207452e+04, -1.95560872e+03],\n",
       "       [ 1.86785100e+03,  2.26347158e+04],\n",
       "       [-2.35045337e+03, -7.74830299e+03],\n",
       "       [-1.10043108e+04, -4.01272115e+03],\n",
       "       [-6.23853237e+03, -6.62574327e+03],\n",
       "       [-1.12071329e+04,  9.94487021e+03],\n",
       "       [-1.30006308e+03,  4.62118083e+03],\n",
       "       [ 7.62349955e+03, -8.76209361e+03],\n",
       "       [-1.01346192e+03, -3.35332315e+03],\n",
       "       [ 1.36536774e+04,  9.92267341e+04],\n",
       "       [ 1.98784566e+04,  5.84706245e+04],\n",
       "       [ 3.18242468e+04, -3.53384402e+03],\n",
       "       [-3.98289851e+03, -6.44332949e+03],\n",
       "       [ 1.23883208e+04, -5.24215783e+03],\n",
       "       [-1.61762381e+03, -8.54281896e+03],\n",
       "       [ 8.79263411e+02, -6.74580158e+03],\n",
       "       [ 1.52914232e+03,  3.59615137e+04],\n",
       "       [ 3.60522081e+03, -7.38078953e+03],\n",
       "       [-5.77789750e+03,  7.36493277e+03],\n",
       "       [-1.26067595e+04, -2.42436795e+03],\n",
       "       [-1.26134442e+04,  1.54707513e+02],\n",
       "       [-1.28783461e+04, -8.26252235e+03],\n",
       "       [-1.27644405e+04, -8.21597014e+03],\n",
       "       [-2.76908838e+03, -7.31599088e+03],\n",
       "       [ 1.95053488e+02,  6.23874393e+03],\n",
       "       [-9.44412629e+03,  1.15794485e+04],\n",
       "       [-8.89133102e+03,  1.75483800e+03],\n",
       "       [ 4.51833111e+04, -6.06493609e+03],\n",
       "       [ 1.00785261e+03, -6.09909491e+03],\n",
       "       [ 2.35794464e+03, -6.87742847e+03],\n",
       "       [-1.05187101e+04,  5.06531841e+03],\n",
       "       [-2.25408154e+03,  1.03885340e+04],\n",
       "       [-1.04156359e+04,  1.65648537e+03],\n",
       "       [-8.18109337e+03,  2.21050139e+04],\n",
       "       [-1.15961935e+03, -7.87301181e+03],\n",
       "       [ 1.43040494e+03,  1.13810823e+04],\n",
       "       [ 7.15459749e+03, -7.44909177e+03],\n",
       "       [ 1.61475401e+03, -7.66987431e+03],\n",
       "       [ 4.88721945e+03, -8.66630367e+03],\n",
       "       [-1.85604098e+03, -7.27728033e+03],\n",
       "       [-1.79516193e+03, -6.09697170e+03],\n",
       "       [-5.50708098e+03, -3.33057647e+03],\n",
       "       [ 7.36578055e+03, -8.15714198e+03],\n",
       "       [-4.34664415e+03, -6.82651862e+03],\n",
       "       [ 4.09512304e+03, -7.41137736e+03],\n",
       "       [-8.67185817e+03, -6.38921962e+03],\n",
       "       [-1.13539574e+03, -9.86306971e+03],\n",
       "       [-3.76597996e+02,  2.92317193e+03],\n",
       "       [ 2.29595480e+04, -9.51531285e+03],\n",
       "       [ 6.44209590e+04, -1.00084616e+04],\n",
       "       [ 6.91008428e+03, -8.73165797e+03],\n",
       "       [ 9.33907743e+03,  1.71940728e+03],\n",
       "       [-1.20036026e+04, -9.67780607e+02],\n",
       "       [ 2.84450714e+04, -1.16508526e+04],\n",
       "       [-5.12194525e+03, -7.75009717e+03],\n",
       "       [-1.12463089e+04, -8.47591663e+03],\n",
       "       [ 1.59344616e+03, -7.17226343e+03],\n",
       "       [-3.95553139e+03, -8.27800824e+03],\n",
       "       [-5.73959609e+03, -6.97408068e+03],\n",
       "       [-6.79514623e+03, -6.80569858e+03],\n",
       "       [-6.68847669e+03,  1.36082859e+03],\n",
       "       [-8.86055795e+03,  1.58758150e+03],\n",
       "       [ 8.27633995e+02, -4.00200672e+03],\n",
       "       [-7.20786516e+03, -4.02551217e+03],\n",
       "       [ 5.23430736e+03, -2.52308150e+03],\n",
       "       [ 1.82767276e+04, -1.28619968e+03],\n",
       "       [ 2.45359645e+04, -2.97018134e+03],\n",
       "       [-1.73781222e+03, -8.30772888e+03],\n",
       "       [ 5.51917269e+03, -7.29230209e+03],\n",
       "       [ 1.14362495e+04,  2.45168563e+04],\n",
       "       [-5.33076106e+03, -6.98140568e+03],\n",
       "       [-3.67550708e+03, -5.63133592e+03],\n",
       "       [-6.92797753e+03, -8.71153375e+03],\n",
       "       [ 1.80979647e+04, -1.02330400e+04],\n",
       "       [ 2.91347483e+03, -8.22100016e+03],\n",
       "       [-1.14756349e+04, -5.51967834e+03],\n",
       "       [ 5.76227034e+03, -7.72104391e+03],\n",
       "       [-8.58625530e+03, -2.43688125e+03],\n",
       "       [-1.28276259e+04, -8.75827339e+03],\n",
       "       [-8.92622096e+03,  1.56971475e+04],\n",
       "       [-7.94875903e+03,  7.46083313e+03],\n",
       "       [ 4.74916150e+03, -7.93700897e+03],\n",
       "       [-9.05209768e+03,  3.14359544e+03],\n",
       "       [-1.12539417e+04,  9.29700244e+03],\n",
       "       [-1.03047681e+04,  4.39596977e+03],\n",
       "       [-9.18497458e+02, -9.59654959e+03],\n",
       "       [ 2.28455343e+03, -6.47617250e+03],\n",
       "       [-4.20729822e+03,  2.42164150e+04],\n",
       "       [-6.53369902e+03,  2.39130262e+03],\n",
       "       [ 5.32807675e+03,  1.38084147e+04],\n",
       "       [-7.01047204e+03,  3.12645930e+03],\n",
       "       [-9.91935360e+03, -4.35537400e+03],\n",
       "       [-7.40995743e+03, -8.44639605e+03],\n",
       "       [-7.53945722e+03, -7.38240706e+03],\n",
       "       [-1.11878402e+04,  8.45076309e+03],\n",
       "       [-8.45023897e+03,  2.31945695e+04],\n",
       "       [-1.13844089e+04, -3.45742055e+01],\n",
       "       [-1.06888294e+04,  1.38387005e+04],\n",
       "       [-1.22335129e+04, -4.13432868e+03],\n",
       "       [-9.39870791e+03,  5.67093590e+03],\n",
       "       [ 3.34799973e+04, -4.85130807e+03],\n",
       "       [ 6.10809930e+02, -2.86405429e+03],\n",
       "       [-1.35491892e+03, -2.56607743e+03],\n",
       "       [-8.80526789e+03, -4.60116027e+03],\n",
       "       [ 1.24201313e+02,  3.74359619e+02],\n",
       "       [ 1.03863425e+05,  9.91034963e+03],\n",
       "       [-1.10735900e+04,  6.06658975e+03],\n",
       "       [ 3.79176592e+04,  2.73314502e+04],\n",
       "       [-1.27319529e+04, -4.66430038e+03],\n",
       "       [-4.28353536e+03, -5.53668475e+03],\n",
       "       [-9.83643604e+03, -7.91208783e+03],\n",
       "       [-8.57629614e+03,  3.68778298e+03],\n",
       "       [-3.56625439e+03,  5.63268509e+03],\n",
       "       [-1.03957072e+04,  7.43684040e+03],\n",
       "       [ 5.07655293e+03, -6.04962503e+03],\n",
       "       [ 1.04045800e+02, -9.11928085e+03],\n",
       "       [-7.65685277e+03, -6.87743314e+03],\n",
       "       [-1.14633249e+04,  1.05414507e+04],\n",
       "       [-6.01806674e+03, -6.63461022e+03],\n",
       "       [ 5.42520518e+03, -3.98453342e+03],\n",
       "       [ 2.06597741e+04, -4.65635721e+03],\n",
       "       [-9.35122531e+03,  4.15182559e+03],\n",
       "       [-7.88576113e+02, -3.59808906e+03],\n",
       "       [-3.51264030e+03, -6.94601868e+03],\n",
       "       [-6.85928948e+03,  1.89552822e+04],\n",
       "       [-5.26298017e+03,  2.22290044e+04],\n",
       "       [ 1.43621802e+04,  1.96927762e+03],\n",
       "       [-1.26073900e+04, -6.50020649e+03],\n",
       "       [-1.08212315e+04, -4.53341619e+03],\n",
       "       [-9.38122505e+03,  1.85431804e+04],\n",
       "       [-6.93444010e+03, -8.29539255e+03],\n",
       "       [-9.61236348e+03, -1.12333435e+02],\n",
       "       [-1.08333548e+04, -1.35076665e+03],\n",
       "       [-5.36956179e+03,  1.45146640e+04],\n",
       "       [ 5.40038580e+03, -8.66013629e+03],\n",
       "       [ 5.02818149e+03,  4.19627682e+04],\n",
       "       [-5.77669045e+03, -7.36724926e+03],\n",
       "       [-8.74329394e+03,  9.51804649e+02],\n",
       "       [-9.51129083e+03,  5.18698502e+03],\n",
       "       [-8.13025590e+03,  1.05383236e+04],\n",
       "       [-6.75326338e+03,  3.22521606e+04],\n",
       "       [ 4.92697367e+03, -8.42873963e+03],\n",
       "       [-1.10034733e+04,  8.76246356e+03],\n",
       "       [-8.91492469e+03, -8.03603572e+03],\n",
       "       [ 1.46028266e+03, -8.90575180e+03],\n",
       "       [-6.62750735e+03,  4.12334394e+03],\n",
       "       [-7.06259032e+03, -6.64838731e+03],\n",
       "       [-9.16513667e+03, -3.54328147e+03],\n",
       "       [-6.02277131e+03, -8.09423762e+03],\n",
       "       [-2.82017463e+02, -5.06503144e+03],\n",
       "       [ 8.47243983e+03, -3.14299352e+01],\n",
       "       [-8.75823707e+03, -6.84678205e+03],\n",
       "       [-1.14067994e+04, -6.56236606e+03],\n",
       "       [-3.41768099e+03, -6.27167282e+03],\n",
       "       [-1.71885057e+02, -2.35142384e+03],\n",
       "       [-9.40189109e+03, -7.56667211e+01],\n",
       "       [ 1.24947031e+04, -7.70385327e+03],\n",
       "       [-1.15722627e+04, -3.69235648e+03],\n",
       "       [ 3.15963157e+03, -6.03988898e+03],\n",
       "       [-1.05231385e+04, -3.13914393e+03],\n",
       "       [-4.37810749e+03, -6.90546405e+03],\n",
       "       [ 6.08158124e+03, -8.46591895e+03],\n",
       "       [-5.99461421e+03, -8.92853677e+03],\n",
       "       [ 3.44067011e+04, -9.53113098e+03],\n",
       "       [ 1.08945559e+04, -3.98293197e+03],\n",
       "       [ 1.16586406e+04, -8.59153865e+03],\n",
       "       [ 5.20240164e+03, -8.09543618e+03],\n",
       "       [-1.52976667e+03, -3.56476224e+03],\n",
       "       [-5.50543829e+03,  4.00947397e+03],\n",
       "       [-8.70809960e+03,  8.06988821e+03],\n",
       "       [-4.07266616e+03, -7.03728495e+03],\n",
       "       [ 2.21632588e+02, -9.75795892e+03],\n",
       "       [ 2.74921833e+03, -5.76755875e+03],\n",
       "       [-4.04407792e+03, -5.94003724e+03],\n",
       "       [-9.68339619e+03, -6.68002307e+03],\n",
       "       [-1.35627634e+03,  3.50687407e+04],\n",
       "       [-5.19287084e+03, -4.94549117e+03],\n",
       "       [ 1.75380114e+04,  5.19235758e+03],\n",
       "       [ 6.89687607e+01,  3.59190786e+03],\n",
       "       [ 1.80965145e+04, -1.09108780e+04],\n",
       "       [-1.60872971e+03, -3.29854804e+03],\n",
       "       [-4.03170772e+03, -6.05053593e+03],\n",
       "       [ 4.31882517e+04, -1.07141052e+04],\n",
       "       [ 4.00548148e+04, -6.19880654e+03],\n",
       "       [-3.67837835e+03, -5.36199482e+03],\n",
       "       [-4.52856233e+03, -8.37775808e+03],\n",
       "       [ 9.70993886e+03, -9.23108665e+03],\n",
       "       [-1.01467098e+04, -2.37678029e+03],\n",
       "       [-1.02375320e+04,  1.01147651e+04],\n",
       "       [-2.20851857e+03,  1.34524459e+04],\n",
       "       [-9.87674687e+03,  1.49971542e+04],\n",
       "       [ 8.09488288e+03, -8.13339944e+03],\n",
       "       [ 5.29289079e+02,  1.15360780e+04],\n",
       "       [ 1.89507913e+03, -9.41812648e+03],\n",
       "       [-7.82730339e+03, -8.09630840e+03],\n",
       "       [-1.04497945e+04, -5.15569999e+03],\n",
       "       [-1.13780011e+04,  7.47480807e+02],\n",
       "       [ 2.38063881e+04, -1.00935709e+04],\n",
       "       [-1.20828246e+04, -6.30785564e+03],\n",
       "       [-1.24327030e+04, -7.85790324e+03],\n",
       "       [ 1.55158437e+04, -4.37266421e+03],\n",
       "       [-1.88821380e+03, -8.95861289e+03],\n",
       "       [-6.21526806e+02, -6.90700965e+03],\n",
       "       [ 5.12722225e+03,  1.26220320e+03],\n",
       "       [-9.45305838e+03, -5.74446007e+03],\n",
       "       [ 2.55900026e+01, -7.95511888e+02],\n",
       "       [ 3.61898335e+04, -8.60629698e+03],\n",
       "       [ 1.39239476e+04, -8.27083296e+03],\n",
       "       [ 5.66645626e+04, -4.28604563e+03],\n",
       "       [ 2.63034809e+04, -1.00533449e+04],\n",
       "       [-5.88530776e+03, -7.08141857e+03],\n",
       "       [ 3.30236416e+03, -7.23303842e+03],\n",
       "       [ 2.71181516e+03, -9.16403650e+03],\n",
       "       [ 2.85964536e+04, -1.30623182e+04],\n",
       "       [-1.02199065e+04, -5.55948231e+03],\n",
       "       [-6.54700882e+03, -5.19726537e+03],\n",
       "       [-9.39911007e+03, -3.94631949e+03],\n",
       "       [-7.30104357e+03,  8.19458870e+03],\n",
       "       [ 8.21789532e+03, -4.74570388e+03],\n",
       "       [-5.43484153e+03, -3.86972810e+03],\n",
       "       [ 6.07942354e+03, -7.22377794e+03],\n",
       "       [-4.51260961e+03, -1.36822791e+03],\n",
       "       [-5.51584406e+03,  2.09929563e+03],\n",
       "       [-1.27393567e+04, -6.72904265e+03],\n",
       "       [ 3.99129653e+03, -1.48894939e+03],\n",
       "       [-5.20835354e+03,  1.62305494e+04],\n",
       "       [-9.34980571e+03,  3.37621432e+03],\n",
       "       [-9.61810944e+03,  7.03720562e+03],\n",
       "       [-1.07012330e+04,  1.83784042e+04],\n",
       "       [-1.10034614e+04,  6.01641890e+03],\n",
       "       [-3.92698769e+03,  1.64046772e+04],\n",
       "       [ 4.15657975e+03, -7.18375907e+03],\n",
       "       [-6.22408064e+03, -6.64822085e+03],\n",
       "       [-8.99780073e+03,  1.46213306e+04],\n",
       "       [-4.27524463e+03, -7.05614202e+03],\n",
       "       [ 1.67395917e+04, -4.48171256e+03],\n",
       "       [-9.65945827e+03,  1.37650595e+04],\n",
       "       [-2.95101269e+03, -7.58990370e+03],\n",
       "       [-2.10214985e+03, -2.87006161e+03],\n",
       "       [-9.15603644e+03,  9.46653376e+03],\n",
       "       [-5.72047194e+03, -7.17980906e+03],\n",
       "       [-1.13026013e+04, -2.31226656e+03],\n",
       "       [-1.06952441e+03, -5.78846809e+03],\n",
       "       [ 3.87067666e+02,  2.11243793e+04],\n",
       "       [-1.10082911e+04, -5.23227157e+03],\n",
       "       [-3.48628076e+03, -4.81165988e+03],\n",
       "       [ 2.90617407e+03, -7.19761933e+03],\n",
       "       [ 5.78910719e+02, -3.22005295e+02],\n",
       "       [ 1.29261042e+04, -7.89432152e+03],\n",
       "       [ 3.10071165e+04,  6.27780042e+03],\n",
       "       [-8.28140565e+03, -7.26435778e+03],\n",
       "       [-1.26234112e+04, -7.09394843e+03],\n",
       "       [ 4.84880481e+03, -6.94924524e+03],\n",
       "       [-7.17886657e+03, -4.99315821e+03],\n",
       "       [-2.75721936e+03, -5.02032984e+03],\n",
       "       [ 1.14795198e+03,  2.16806578e+04],\n",
       "       [ 9.32637900e+03, -8.35579714e+03],\n",
       "       [-5.19041747e+02,  5.82410592e+04],\n",
       "       [ 5.24374639e+03, -8.00522860e+03],\n",
       "       [ 1.47993067e+04,  1.54497207e+03],\n",
       "       [ 5.96119399e+02, -8.48759502e+03],\n",
       "       [-2.70572191e+03, -7.10931981e+03],\n",
       "       [-1.05722995e+04, -3.53970067e+03],\n",
       "       [-8.84587395e+03, -4.28327561e+03],\n",
       "       [-1.19059306e+04,  3.33095826e+03],\n",
       "       [-9.57909054e+03,  4.47914535e+03],\n",
       "       [-1.20395478e+04,  3.94397787e+02],\n",
       "       [-9.23401541e+03,  2.03288610e+04],\n",
       "       [-9.87526219e+03, -7.14919243e+03],\n",
       "       [-1.14091224e+04,  1.72205598e+02],\n",
       "       [-8.51907450e+03,  8.75572251e+03],\n",
       "       [ 1.53687361e+04,  2.95980958e+03],\n",
       "       [-9.46000199e+03, -5.97973018e+03],\n",
       "       [-4.33464772e+03,  1.82082793e+04],\n",
       "       [-9.42739638e+03, -7.03351528e+03],\n",
       "       [-9.30152620e+03,  1.80325702e+04],\n",
       "       [-1.25008372e+04, -7.12036449e+03],\n",
       "       [-1.12346988e+04,  1.38369119e+04],\n",
       "       [ 2.42329916e+03, -4.11450007e+03],\n",
       "       [-1.30199080e+04, -6.86195565e+03],\n",
       "       [ 9.23959160e+03, -1.11223282e+04],\n",
       "       [-1.19200106e+04,  1.13274020e+04],\n",
       "       [-9.14991717e+03,  2.30339816e+03],\n",
       "       [-1.17396021e+04, -4.14512139e+03],\n",
       "       [ 6.71939218e+03, -7.84220330e+03],\n",
       "       [-8.50218316e+03, -8.31550839e+03],\n",
       "       [-1.09132898e+04, -6.26188181e+03],\n",
       "       [-8.50860878e+03, -4.92634405e+03],\n",
       "       [-1.05125203e+04, -7.30405002e+03],\n",
       "       [-7.21736838e+03,  1.75007644e+03],\n",
       "       [-3.54671319e+03, -7.38128260e+03],\n",
       "       [-9.68192160e+03, -8.25506962e+03],\n",
       "       [ 8.99093000e+03, -8.80777729e+03],\n",
       "       [-7.12811443e+03, -8.80368778e+03],\n",
       "       [ 2.64251874e+04, -7.09718875e+03],\n",
       "       [ 7.81188038e+03, -8.43837728e+03],\n",
       "       [-8.64802465e+03, -5.63426470e+03],\n",
       "       [ 2.90139385e+03, -7.58344371e+02],\n",
       "       [-6.62486558e+03, -6.96141406e+03],\n",
       "       [-7.41850097e+03, -7.66718677e+03],\n",
       "       [-7.59403353e+03,  7.34873094e+03],\n",
       "       [ 2.52073705e+04, -9.37712120e+03],\n",
       "       [-9.67813348e+03, -5.94444754e+03],\n",
       "       [-8.21750573e+03,  1.64147411e+03],\n",
       "       [ 1.49838972e+04, -9.66009867e+03],\n",
       "       [ 6.09389584e+03, -7.25101889e+03],\n",
       "       [ 2.21777023e+04, -1.58216313e+03],\n",
       "       [-1.06740098e+04, -5.59353956e+03],\n",
       "       [ 1.46740808e+03,  1.33706672e+04],\n",
       "       [-1.42404740e+03, -8.31880425e+03],\n",
       "       [-1.13101238e+04, -4.75817035e+03],\n",
       "       [ 7.65659247e+03, -8.84446828e+03],\n",
       "       [-3.44999313e+03, -8.50819418e+03],\n",
       "       [-3.51935927e+03, -7.92041436e+03],\n",
       "       [-9.05963421e+03, -7.50273276e+03],\n",
       "       [-1.01382737e+04, -5.80232227e+03],\n",
       "       [-1.20840217e+04, -3.90329972e+03],\n",
       "       [ 1.20339199e+04, -5.00325025e+03],\n",
       "       [-8.30716572e+02, -7.24323989e+03],\n",
       "       [-3.38926534e+03, -7.97270058e+03],\n",
       "       [-6.49503494e+03,  5.31757356e+03],\n",
       "       [-8.15906289e+02, -8.21118679e+03],\n",
       "       [-1.29009254e+03, -9.17232149e+03],\n",
       "       [-3.68194850e+03, -8.71211920e+03],\n",
       "       [-8.32155339e+03, -7.85526942e+03],\n",
       "       [ 1.56815238e+04, -8.86280730e+03],\n",
       "       [ 1.34001559e+04, -5.39662268e+03],\n",
       "       [ 1.31947418e+04, -2.21445103e+03],\n",
       "       [ 5.65893886e+03, -5.51684405e+03],\n",
       "       [-6.20419207e+03, -7.95435255e+03],\n",
       "       [ 1.34840209e+04, -4.89961113e+03],\n",
       "       [-3.14963664e+03,  1.41297513e+04],\n",
       "       [-4.27934023e+03, -1.85117069e+03],\n",
       "       [-3.44980621e+03, -2.22402887e+03],\n",
       "       [-6.12250342e+03, -4.22634363e+03],\n",
       "       [-1.02559460e+04, -4.54795211e+03],\n",
       "       [-1.21691539e+04,  3.59245060e+03],\n",
       "       [-4.71738897e+03, -1.65979906e+03],\n",
       "       [-6.30463994e+03, -5.52045380e+03],\n",
       "       [-4.18477144e+03,  1.33446499e+03],\n",
       "       [-7.02962149e+03,  7.17239836e+03],\n",
       "       [-7.06589914e+03,  3.23176616e+03],\n",
       "       [-1.06166251e+04,  1.22267843e+04],\n",
       "       [-4.02482565e+03, -5.50113167e+03],\n",
       "       [-7.60786884e+03,  6.08257064e+03],\n",
       "       [ 4.59959854e+03,  4.06671321e+01],\n",
       "       [ 1.29448658e+04, -7.44387545e+03],\n",
       "       [ 4.61822645e+03, -4.62808709e+03],\n",
       "       [ 4.34926153e+03,  1.30953428e+03],\n",
       "       [ 4.34714301e+02, -6.98341553e+03],\n",
       "       [ 1.94924340e+03,  7.39521798e+03],\n",
       "       [ 2.15526835e+04,  4.48065148e+02],\n",
       "       [-9.11042017e+03, -2.04019767e+03],\n",
       "       [-4.44771292e+03, -5.96374584e+03],\n",
       "       [-8.68316982e+03,  5.81408578e+03],\n",
       "       [-1.99737741e+03, -2.64660584e+03],\n",
       "       [ 7.65137624e+03, -6.42303804e+03],\n",
       "       [-1.07137383e+04, -6.05810977e+03],\n",
       "       [ 3.98879821e+03, -1.63844521e+03],\n",
       "       [ 2.01408485e+04,  6.30687723e+03],\n",
       "       [ 2.59122499e+04, -1.17576471e+04],\n",
       "       [ 4.55511500e+03,  2.62017586e+04],\n",
       "       [-2.73437092e+03, -7.07077534e+03],\n",
       "       [-1.03701253e+04, -6.16146491e+03]])"
      ]
     },
     "execution_count": 61,
     "metadata": {},
     "output_type": "execute_result"
    }
   ],
   "source": [
    "X_test_reduced = pca.transform(x)\n",
    "X_test_reduced"
   ]
  },
  {
   "cell_type": "code",
   "execution_count": null,
   "metadata": {},
   "outputs": [],
   "source": []
  }
 ],
 "metadata": {
  "kernelspec": {
   "display_name": "Python 3",
   "language": "python",
   "name": "python3"
  },
  "language_info": {
   "codemirror_mode": {
    "name": "ipython",
    "version": 3
   },
   "file_extension": ".py",
   "mimetype": "text/x-python",
   "name": "python",
   "nbconvert_exporter": "python",
   "pygments_lexer": "ipython3",
   "version": "3.7.6"
  }
 },
 "nbformat": 4,
 "nbformat_minor": 2
}
